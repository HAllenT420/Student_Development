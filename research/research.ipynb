{
 "cells": [
  {
   "cell_type": "code",
   "execution_count": 3,
   "metadata": {},
   "outputs": [
    {
     "name": "stdout",
     "output_type": "stream",
     "text": [
      "Connection successful!\n",
      "Data ingestion successful!\n",
      "   gender race_ethnicity parental_level_of_education         lunch  \\\n",
      "0  female        group B           bachelor's degree      standard   \n",
      "1  female        group C                some college      standard   \n",
      "2  female        group B             master's degree      standard   \n",
      "3    male        group A          associate's degree  free/reduced   \n",
      "4    male        group C                some college      standard   \n",
      "\n",
      "  test_preparation_course  math_score  reading_score  writing_score  \n",
      "0                    none          72             72             74  \n",
      "1               completed          69             90             88  \n",
      "2                    none          90             95             93  \n",
      "3                    none          47             57             44  \n",
      "4                    none          76             78             75  \n"
     ]
    },
    {
     "name": "stderr",
     "output_type": "stream",
     "text": [
      "C:\\Users\\allen_vvyeprk\\AppData\\Local\\Temp\\ipykernel_7876\\2415701445.py:24: UserWarning: pandas only supports SQLAlchemy connectable (engine/connection) or database string URI or sqlite3 DBAPI2 connection. Other DBAPI2 objects are not tested. Please consider using SQLAlchemy.\n",
      "  data = pd.read_sql(query, connection)\n"
     ]
    }
   ],
   "source": [
    "import pyodbc\n",
    "import pandas as pd\n",
    "\n",
    "# Connection parameters\n",
    "server_name = \"ALLEN-TIDER\"  # Your SQL Server name\n",
    "database_name = \"student_database\"  # Replace with your database name\n",
    "table_name = \"stud\"  # Replace with your table name\n",
    "\n",
    "try:\n",
    "    # Establish connection using Windows Authentication\n",
    "    connection = pyodbc.connect(\n",
    "        f\"DRIVER={{ODBC Driver 17 for SQL Server}};\"\n",
    "        f\"SERVER={server_name};\"\n",
    "        f\"DATABASE={database_name};\"\n",
    "        f\"Trusted_Connection=yes;\"\n",
    "    )\n",
    "    print(\"Connection successful!\")\n",
    "\n",
    "    \n",
    "    # SQL query to fetch data\n",
    "    query = f\"SELECT * FROM {table_name}\"\n",
    "\n",
    "    # Load data into a pandas DataFrame\n",
    "    data = pd.read_sql(query, connection)\n",
    "    print(\"Data ingestion successful!\")\n",
    "    print(data.head())  # Display the first few rows\n",
    "\n",
    "    # Close the connection\n",
    "    connection.close()\n",
    "\n",
    "except Exception as e:\n",
    "    print(f\"Error occurred: {e}\")\n",
    "\n",
    "    "
   ]
  },
  {
   "cell_type": "code",
   "execution_count": 4,
   "metadata": {},
   "outputs": [
    {
     "name": "stdout",
     "output_type": "stream",
     "text": [
      "Connection successful!\n",
      "Data ingestion successful!\n",
      "   gender race_ethnicity parental_level_of_education         lunch  \\\n",
      "0  female        group B           bachelor's degree      standard   \n",
      "1  female        group C                some college      standard   \n",
      "2  female        group B             master's degree      standard   \n",
      "3    male        group A          associate's degree  free/reduced   \n",
      "4    male        group C                some college      standard   \n",
      "\n",
      "  test_preparation_course  math_score  reading_score  writing_score  \n",
      "0                    none          72             72             74  \n",
      "1               completed          69             90             88  \n",
      "2                    none          90             95             93  \n",
      "3                    none          47             57             44  \n",
      "4                    none          76             78             75  \n"
     ]
    }
   ],
   "source": [
    "from sqlalchemy import create_engine\n",
    "import pandas as pd\n",
    "\n",
    "# Define the connection URI\n",
    "database_uri = \"mssql+pyodbc://@ALLEN-TIDER/student_database?driver=ODBC+Driver+17+for+SQL+Server&Trusted_Connection=yes\"\n",
    "\n",
    "try:\n",
    "    # Create an engine using the URI\n",
    "    engine = create_engine(database_uri)\n",
    "    print(\"Connection successful!\")\n",
    "\n",
    "    # SQL query to fetch data\n",
    "    query = \"SELECT * FROM stud\"  # Replace 'stud' with your table name\n",
    "\n",
    "    # Load data into a pandas DataFrame\n",
    "    data = pd.read_sql(query, engine)\n",
    "    print(\"Data ingestion successful!\")\n",
    "    print(data.head())  # Display the first few rows\n",
    "\n",
    "    # Close the engine\n",
    "    engine.dispose()\n",
    "\n",
    "except Exception as e:\n",
    "    print(f\"Error occurred: {e}\")\n"
   ]
  }
 ],
 "metadata": {
  "kernelspec": {
   "display_name": "Python 3",
   "language": "python",
   "name": "python3"
  },
  "language_info": {
   "codemirror_mode": {
    "name": "ipython",
    "version": 3
   },
   "file_extension": ".py",
   "mimetype": "text/x-python",
   "name": "python",
   "nbconvert_exporter": "python",
   "pygments_lexer": "ipython3",
   "version": "3.10.0"
  }
 },
 "nbformat": 4,
 "nbformat_minor": 2
}
